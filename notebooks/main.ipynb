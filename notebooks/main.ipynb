{
 "cells": [
  {
   "cell_type": "code",
   "execution_count": 32,
   "id": "8a2c8f8d",
   "metadata": {},
   "outputs": [],
   "source": [
    "import pandas as pd\n",
    "import seaborn as sns\n",
    "import matplotlib.pyplot as plt"
   ]
  },
  {
   "cell_type": "markdown",
   "id": "7121885b",
   "metadata": {},
   "source": [
    "# Load and Overview"
   ]
  },
  {
   "cell_type": "code",
   "execution_count": 58,
   "id": "3d0c8ca5",
   "metadata": {},
   "outputs": [],
   "source": [
    "data = pd.read_csv(\"../data/synthetic/ab_test_fintech_data.csv\")"
   ]
  },
  {
   "cell_type": "code",
   "execution_count": 34,
   "id": "33d62578",
   "metadata": {},
   "outputs": [
    {
     "data": {
      "text/html": [
       "<div>\n",
       "<style scoped>\n",
       "    .dataframe tbody tr th:only-of-type {\n",
       "        vertical-align: middle;\n",
       "    }\n",
       "\n",
       "    .dataframe tbody tr th {\n",
       "        vertical-align: top;\n",
       "    }\n",
       "\n",
       "    .dataframe thead th {\n",
       "        text-align: right;\n",
       "    }\n",
       "</style>\n",
       "<table border=\"1\" class=\"dataframe\">\n",
       "  <thead>\n",
       "    <tr style=\"text-align: right;\">\n",
       "      <th></th>\n",
       "      <th>user_id</th>\n",
       "      <th>group</th>\n",
       "      <th>converted</th>\n",
       "      <th>timestamp</th>\n",
       "      <th>clicks</th>\n",
       "      <th>views</th>\n",
       "    </tr>\n",
       "  </thead>\n",
       "  <tbody>\n",
       "    <tr>\n",
       "      <th>0</th>\n",
       "      <td>1</td>\n",
       "      <td>control</td>\n",
       "      <td>0</td>\n",
       "      <td>2025-01-01 00:00:00</td>\n",
       "      <td>2</td>\n",
       "      <td>3</td>\n",
       "    </tr>\n",
       "    <tr>\n",
       "      <th>1</th>\n",
       "      <td>2</td>\n",
       "      <td>test</td>\n",
       "      <td>0</td>\n",
       "      <td>2025-01-01 00:01:00</td>\n",
       "      <td>3</td>\n",
       "      <td>5</td>\n",
       "    </tr>\n",
       "    <tr>\n",
       "      <th>2</th>\n",
       "      <td>3</td>\n",
       "      <td>control</td>\n",
       "      <td>0</td>\n",
       "      <td>2025-01-01 00:02:00</td>\n",
       "      <td>6</td>\n",
       "      <td>8</td>\n",
       "    </tr>\n",
       "    <tr>\n",
       "      <th>3</th>\n",
       "      <td>4</td>\n",
       "      <td>control</td>\n",
       "      <td>0</td>\n",
       "      <td>2025-01-01 00:03:00</td>\n",
       "      <td>1</td>\n",
       "      <td>3</td>\n",
       "    </tr>\n",
       "    <tr>\n",
       "      <th>4</th>\n",
       "      <td>5</td>\n",
       "      <td>control</td>\n",
       "      <td>0</td>\n",
       "      <td>2025-01-01 00:04:00</td>\n",
       "      <td>4</td>\n",
       "      <td>4</td>\n",
       "    </tr>\n",
       "  </tbody>\n",
       "</table>\n",
       "</div>"
      ],
      "text/plain": [
       "   user_id    group  converted            timestamp  clicks  views\n",
       "0        1  control          0  2025-01-01 00:00:00       2      3\n",
       "1        2     test          0  2025-01-01 00:01:00       3      5\n",
       "2        3  control          0  2025-01-01 00:02:00       6      8\n",
       "3        4  control          0  2025-01-01 00:03:00       1      3\n",
       "4        5  control          0  2025-01-01 00:04:00       4      4"
      ]
     },
     "execution_count": 34,
     "metadata": {},
     "output_type": "execute_result"
    }
   ],
   "source": [
    "data.head()"
   ]
  },
  {
   "cell_type": "code",
   "execution_count": 35,
   "id": "1b2f8a75",
   "metadata": {},
   "outputs": [
    {
     "data": {
      "text/plain": [
       "(1000, 6)"
      ]
     },
     "execution_count": 35,
     "metadata": {},
     "output_type": "execute_result"
    }
   ],
   "source": [
    "data.shape"
   ]
  },
  {
   "cell_type": "code",
   "execution_count": 36,
   "id": "0761d309",
   "metadata": {},
   "outputs": [
    {
     "name": "stdout",
     "output_type": "stream",
     "text": [
      "<class 'pandas.core.frame.DataFrame'>\n",
      "RangeIndex: 1000 entries, 0 to 999\n",
      "Data columns (total 6 columns):\n",
      " #   Column     Non-Null Count  Dtype \n",
      "---  ------     --------------  ----- \n",
      " 0   user_id    1000 non-null   int64 \n",
      " 1   group      1000 non-null   object\n",
      " 2   converted  1000 non-null   int64 \n",
      " 3   timestamp  1000 non-null   object\n",
      " 4   clicks     1000 non-null   int64 \n",
      " 5   views      1000 non-null   int64 \n",
      "dtypes: int64(4), object(2)\n",
      "memory usage: 47.0+ KB\n"
     ]
    }
   ],
   "source": [
    "data.info()"
   ]
  },
  {
   "cell_type": "code",
   "execution_count": 37,
   "id": "334fa7fd",
   "metadata": {},
   "outputs": [
    {
     "data": {
      "text/html": [
       "<div>\n",
       "<style scoped>\n",
       "    .dataframe tbody tr th:only-of-type {\n",
       "        vertical-align: middle;\n",
       "    }\n",
       "\n",
       "    .dataframe tbody tr th {\n",
       "        vertical-align: top;\n",
       "    }\n",
       "\n",
       "    .dataframe thead th {\n",
       "        text-align: right;\n",
       "    }\n",
       "</style>\n",
       "<table border=\"1\" class=\"dataframe\">\n",
       "  <thead>\n",
       "    <tr style=\"text-align: right;\">\n",
       "      <th></th>\n",
       "      <th>count</th>\n",
       "      <th>mean</th>\n",
       "      <th>std</th>\n",
       "      <th>min</th>\n",
       "      <th>25%</th>\n",
       "      <th>50%</th>\n",
       "      <th>75%</th>\n",
       "      <th>max</th>\n",
       "    </tr>\n",
       "  </thead>\n",
       "  <tbody>\n",
       "    <tr>\n",
       "      <th>user_id</th>\n",
       "      <td>1000.0</td>\n",
       "      <td>500.500</td>\n",
       "      <td>288.819436</td>\n",
       "      <td>1.0</td>\n",
       "      <td>250.75</td>\n",
       "      <td>500.5</td>\n",
       "      <td>750.25</td>\n",
       "      <td>1000.0</td>\n",
       "    </tr>\n",
       "    <tr>\n",
       "      <th>converted</th>\n",
       "      <td>1000.0</td>\n",
       "      <td>0.139</td>\n",
       "      <td>0.346120</td>\n",
       "      <td>0.0</td>\n",
       "      <td>0.00</td>\n",
       "      <td>0.0</td>\n",
       "      <td>0.00</td>\n",
       "      <td>1.0</td>\n",
       "    </tr>\n",
       "    <tr>\n",
       "      <th>clicks</th>\n",
       "      <td>1000.0</td>\n",
       "      <td>2.957</td>\n",
       "      <td>1.672109</td>\n",
       "      <td>0.0</td>\n",
       "      <td>2.00</td>\n",
       "      <td>3.0</td>\n",
       "      <td>4.00</td>\n",
       "      <td>9.0</td>\n",
       "    </tr>\n",
       "    <tr>\n",
       "      <th>views</th>\n",
       "      <td>1000.0</td>\n",
       "      <td>3.929</td>\n",
       "      <td>1.856719</td>\n",
       "      <td>0.0</td>\n",
       "      <td>3.00</td>\n",
       "      <td>4.0</td>\n",
       "      <td>5.00</td>\n",
       "      <td>10.0</td>\n",
       "    </tr>\n",
       "  </tbody>\n",
       "</table>\n",
       "</div>"
      ],
      "text/plain": [
       "            count     mean         std  min     25%    50%     75%     max\n",
       "user_id    1000.0  500.500  288.819436  1.0  250.75  500.5  750.25  1000.0\n",
       "converted  1000.0    0.139    0.346120  0.0    0.00    0.0    0.00     1.0\n",
       "clicks     1000.0    2.957    1.672109  0.0    2.00    3.0    4.00     9.0\n",
       "views      1000.0    3.929    1.856719  0.0    3.00    4.0    5.00    10.0"
      ]
     },
     "execution_count": 37,
     "metadata": {},
     "output_type": "execute_result"
    }
   ],
   "source": [
    "data.describe().T"
   ]
  },
  {
   "cell_type": "markdown",
   "id": "ef88701f",
   "metadata": {},
   "source": [
    "# Preparation"
   ]
  },
  {
   "cell_type": "code",
   "execution_count": 38,
   "id": "bf9e89f6",
   "metadata": {},
   "outputs": [],
   "source": [
    "data['timestamp'] = pd.to_datetime(data['timestamp'])"
   ]
  },
  {
   "cell_type": "markdown",
   "id": "fee188dc",
   "metadata": {},
   "source": [
    "# Plot"
   ]
  },
  {
   "cell_type": "code",
   "execution_count": 39,
   "id": "f9d4f379",
   "metadata": {},
   "outputs": [],
   "source": [
    "sns.set(style=\"whitegrid\")"
   ]
  },
  {
   "cell_type": "code",
   "execution_count": 40,
   "id": "1dd4eb05",
   "metadata": {},
   "outputs": [],
   "source": [
    "conversion_rates = data.groupby('group')['converted'].mean().reset_index()"
   ]
  },
  {
   "cell_type": "code",
   "execution_count": 41,
   "id": "452a7658",
   "metadata": {},
   "outputs": [
    {
     "name": "stderr",
     "output_type": "stream",
     "text": [
      "/tmp/ipykernel_48451/2375002853.py:2: FutureWarning: \n",
      "\n",
      "Passing `palette` without assigning `hue` is deprecated and will be removed in v0.14.0. Assign the `x` variable to `hue` and set `legend=False` for the same effect.\n",
      "\n",
      "  sns.barplot(x='group', y='converted', data=conversion_rates, palette='Set2')\n"
     ]
    },
    {
     "data": {
      "image/png": "[encoded data removed]",
      "text/plain": [
       "<Figure size 600x400 with 1 Axes>"
      ]
     },
     "metadata": {},
     "output_type": "display_data"
    }
   ],
   "source": [
    "plt.figure(figsize=(6, 4))\n",
    "sns.barplot(x='group', y='converted', data=conversion_rates, palette='Set2')\n",
    "plt.title('Conversion Rate by Group')\n",
    "plt.ylabel('Conversion Rate')\n",
    "plt.xlabel('Group')\n",
    "plt.ylim(0, 0.25)\n",
    "plt.tight_layout()\n",
    "plt.show()\n"
   ]
  },
  {
   "cell_type": "code",
   "execution_count": 42,
   "id": "19b22526",
   "metadata": {},
   "outputs": [
    {
     "name": "stderr",
     "output_type": "stream",
     "text": [
      "/tmp/ipykernel_48451/3516855736.py:2: FutureWarning: \n",
      "\n",
      "Passing `palette` without assigning `hue` is deprecated and will be removed in v0.14.0. Assign the `x` variable to `hue` and set `legend=False` for the same effect.\n",
      "\n",
      "  sns.boxplot(x='group', y='clicks', data=data, palette='Pastel1')\n"
     ]
    },
    {
     "data": {
      "image/png": "[encoded data removed]",
      "text/plain": [
       "<Figure size 600x400 with 1 Axes>"
      ]
     },
     "metadata": {},
     "output_type": "display_data"
    }
   ],
   "source": [
    "plt.figure(figsize=(6, 4))\n",
    "sns.boxplot(x='group', y='clicks', data=data, palette='Pastel1')\n",
    "plt.title('Distribution of Clicks by Group')\n",
    "plt.ylabel('Number of Clicks')\n",
    "plt.xlabel('Group')\n",
    "plt.tight_layout()\n",
    "plt.show()\n"
   ]
  },
  {
   "cell_type": "code",
   "execution_count": 43,
   "id": "2e6b0a6c",
   "metadata": {},
   "outputs": [
    {
     "name": "stderr",
     "output_type": "stream",
     "text": [
      "/tmp/ipykernel_48451/1304641707.py:2: FutureWarning: \n",
      "\n",
      "Passing `palette` without assigning `hue` is deprecated and will be removed in v0.14.0. Assign the `x` variable to `hue` and set `legend=False` for the same effect.\n",
      "\n",
      "  sns.boxplot(x='group', y='views', data=data, palette='coolwarm')\n"
     ]
    },
    {
     "data": {
      "image/png": "[encoded data removed]",
      "text/plain": [
       "<Figure size 600x400 with 1 Axes>"
      ]
     },
     "metadata": {},
     "output_type": "display_data"
    }
   ],
   "source": [
    "plt.figure(figsize=(6, 4))\n",
    "sns.boxplot(x='group', y='views', data=data, palette='coolwarm')\n",
    "plt.title('Distribution of Views by Group')\n",
    "plt.ylabel('Number of Views')\n",
    "plt.xlabel('Group')\n",
    "plt.tight_layout()\n",
    "plt.show()\n"
   ]
  },
  {
   "cell_type": "code",
   "execution_count": 44,
   "id": "f357edbc",
   "metadata": {},
   "outputs": [
    {
     "name": "stderr",
     "output_type": "stream",
     "text": [
      "/tmp/ipykernel_48451/1860582580.py:2: FutureWarning: 'H' is deprecated and will be removed in a future version, please use 'h' instead.\n",
      "  time_series = data.resample('H').sum()[['clicks', 'views']]\n"
     ]
    },
    {
     "data": {
      "image/png": "[encoded data removed]",
      "text/plain": [
       "<Figure size 1200x500 with 1 Axes>"
      ]
     },
     "metadata": {},
     "output_type": "display_data"
    }
   ],
   "source": [
    "data.set_index('timestamp', inplace=True)\n",
    "time_series = data.resample('H').sum()[['clicks', 'views']] \n",
    "\n",
    "plt.figure(figsize=(12, 5))\n",
    "plt.plot(time_series.index, time_series['clicks'], label='Clicks', color='royalblue')\n",
    "plt.plot(time_series.index, time_series['views'], label='Views', color='darkorange')\n",
    "plt.title('Clicks and Views Over Time')\n",
    "plt.xlabel('Time')\n",
    "plt.ylabel('Count')\n",
    "plt.legend()\n",
    "plt.tight_layout()\n",
    "plt.show()\n"
   ]
  },
  {
   "cell_type": "code",
   "execution_count": 46,
   "id": "bec257c6",
   "metadata": {},
   "outputs": [
    {
     "data": {
      "text/plain": [
       "<Axes: xlabel='group', ylabel='converted'>"
      ]
     },
     "execution_count": 46,
     "metadata": {},
     "output_type": "execute_result"
    },
    {
     "data": {
      "image/png": "[encoded data removed]",
      "text/plain": [
       "<Figure size 640x480 with 1 Axes>"
      ]
     },
     "metadata": {},
     "output_type": "display_data"
    }
   ],
   "source": [
    "sns.barplot(x='group', y='converted', data=data)\n"
   ]
  },
  {
   "cell_type": "code",
   "execution_count": 47,
   "id": "650d9ee2",
   "metadata": {},
   "outputs": [
    {
     "data": {
      "image/png": "[encoded data removed]",
      "text/plain": [
       "<Figure size 1000x400 with 1 Axes>"
      ]
     },
     "metadata": {},
     "output_type": "display_data"
    }
   ],
   "source": [
    "data['conversion_cumsum'] = data['converted'].cumsum()\n",
    "\n",
    "plt.figure(figsize=(10, 4))\n",
    "sns.lineplot(data=data, x='timestamp', y='conversion_cumsum')\n",
    "plt.title('Cumulative Conversions Over Time')\n",
    "plt.tight_layout()\n",
    "plt.show()\n"
   ]
  },
  {
   "cell_type": "code",
   "execution_count": 50,
   "id": "0b8aef70",
   "metadata": {},
   "outputs": [
    {
     "data": {
      "text/plain": [
       "<Axes: xlabel='timestamp', ylabel='conversion_group_cumsum'>"
      ]
     },
     "execution_count": 50,
     "metadata": {},
     "output_type": "execute_result"
    },
    {
     "data": {
      "image/png": "[encoded data removed]",
      "text/plain": [
       "<Figure size 640x480 with 1 Axes>"
      ]
     },
     "metadata": {},
     "output_type": "display_data"
    }
   ],
   "source": [
    "data['conversion_group_cumsum'] = data.groupby('group')['converted'].cumsum()\n",
    "sns.lineplot(data=data, x='timestamp', y='conversion_group_cumsum', hue='group')\n"
   ]
  },
  {
   "cell_type": "code",
   "execution_count": 51,
   "id": "f91eddca",
   "metadata": {},
   "outputs": [
    {
     "name": "stderr",
     "output_type": "stream",
     "text": [
      "/tmp/ipykernel_48451/2227510725.py:8: FutureWarning: \n",
      "\n",
      "Passing `palette` without assigning `hue` is deprecated and will be removed in v0.14.0. Assign the `x` variable to `hue` and set `legend=False` for the same effect.\n",
      "\n",
      "  sns.barplot(x=list(funnel.keys()), y=list(funnel.values()), palette='Blues_r')\n"
     ]
    },
    {
     "data": {
      "image/png": "[encoded data removed]",
      "text/plain": [
       "<Figure size 600x400 with 1 Axes>"
      ]
     },
     "metadata": {},
     "output_type": "display_data"
    }
   ],
   "source": [
    "funnel = {\n",
    "    'Views': data['views'].sum(),\n",
    "    'Clicks': data['clicks'].sum(),\n",
    "    'Conversions': data['converted'].sum()\n",
    "}\n",
    "\n",
    "plt.figure(figsize=(6, 4))\n",
    "sns.barplot(x=list(funnel.keys()), y=list(funnel.values()), palette='Blues_r')\n",
    "plt.title('Engagement Funnel')\n",
    "plt.ylabel('Total Count')\n",
    "plt.tight_layout()\n",
    "plt.show()\n"
   ]
  },
  {
   "cell_type": "code",
   "execution_count": 52,
   "id": "a377ba9c",
   "metadata": {},
   "outputs": [
    {
     "name": "stderr",
     "output_type": "stream",
     "text": [
      "/tmp/ipykernel_48451/1738169305.py:2: FutureWarning: The default of observed=False is deprecated and will be changed to True in a future version of pandas. Pass observed=False to retain current behavior or observed=True to adopt the future default and silence this warning.\n",
      "  conversion_by_clicks = data.groupby('click_bins')['converted'].mean().reset_index()\n"
     ]
    },
    {
     "data": {
      "image/png": "[encoded data removed]",
      "text/plain": [
       "<Figure size 800x400 with 1 Axes>"
      ]
     },
     "metadata": {},
     "output_type": "display_data"
    }
   ],
   "source": [
    "data['click_bins'] = pd.cut(data['clicks'], bins=[0, 2, 5, 10, 20, 50])\n",
    "conversion_by_clicks = data.groupby('click_bins')['converted'].mean().reset_index()\n",
    "\n",
    "plt.figure(figsize=(8, 4))\n",
    "sns.barplot(x='click_bins', y='converted', data=conversion_by_clicks)\n",
    "plt.title('Conversion Rate by Click Activity')\n",
    "plt.xticks(rotation=45)\n",
    "plt.tight_layout()\n",
    "plt.show()\n"
   ]
  },
  {
   "cell_type": "code",
   "execution_count": 54,
   "id": "39ddcfa1",
   "metadata": {},
   "outputs": [
    {
     "data": {
      "text/plain": [
       "Text(0.5, 1.0, 'Clicks Distribution by Group')"
      ]
     },
     "execution_count": 54,
     "metadata": {},
     "output_type": "execute_result"
    },
    {
     "data": {
      "image/png": "[encoded data removed]",
      "text/plain": [
       "<Figure size 640x480 with 1 Axes>"
      ]
     },
     "metadata": {},
     "output_type": "display_data"
    }
   ],
   "source": [
    "sns.boxplot(x='group', y='clicks', data=data)\n",
    "plt.title('Clicks Distribution by Group')\n"
   ]
  },
  {
   "cell_type": "code",
   "execution_count": 55,
   "id": "6270979d",
   "metadata": {},
   "outputs": [
    {
     "data": {
      "image/png": "[encoded data removed]",
      "text/plain": [
       "<Figure size 600x400 with 2 Axes>"
      ]
     },
     "metadata": {},
     "output_type": "display_data"
    }
   ],
   "source": [
    "plt.figure(figsize=(6, 4))\n",
    "sns.heatmap(data[['views', 'clicks', 'converted']].corr(), annot=True, cmap='coolwarm')\n",
    "plt.title('Feature Correlation')\n",
    "plt.tight_layout()\n",
    "plt.show()\n"
   ]
  },
  {
   "cell_type": "code",
   "execution_count": 57,
   "id": "6f494fab",
   "metadata": {},
   "outputs": [
    {
     "data": {
      "application/vnd.plotly.v1+json": {
       "config": {
        "plotlyServerURL": "https://plot.ly"
       },
       "data": [
        {
         "alignmentgroup": "True",
         "bingroup": "x",
         "hovertemplate": "group=control<br>clicks=%{x}<br>count=%{y}<extra></extra>",
         "legendgroup": "control",
         "marker": {
          "color": "#636efa",
          "pattern": {
           "shape": ""
          }
         },
         "name": "control",
         "nbinsx": 20,
         "offsetgroup": "control",
         "orientation": "v",
         "showlegend": true,
         "type": "histogram",
         "x": [
          2,
          6,
          1,
          4,
          2,
          3,
          3,
          3,
          2,
          4,
          6,
          5,
          3,
          6,
          4,
          2,
          4,
          2,
          2,
          3,
          5,
          3,
          1,
          3,
          1,
          2,
          2,
          5,
          2,
          3,
          4,
          2,
          2,
          2,
          2,
          3,
          2,
          2,
          2,
          3,
          7,
          2,
          4,
          3,
          2,
          2,
          5,
          3,
          2,
          5,
          2,
          3,
          2,
          2,
          4,
          4,
          3,
          3,
          1,
          4,
          2,
          2,
          2,
          1,
          5,
          3,
          1,
          3,
          4,
          4,
          5,
          2,
          3,
          8,
          4,
          4,
          3,
          4,
          2,
          5,
          3,
          4,
          3,
          4,
          3,
          1,
          0,
          3,
          6,
          2,
          4,
          7,
          5,
          1,
          6,
          1,
          2,
          1,
          0,
          1,
          1,
          2,
          6,
          5,
          2,
          3,
          2,
          1,
          5,
          5,
          2,
          3,
          2,
          6,
          7,
          3,
          4,
          1,
          2,
          6,
          0,
          5,
          2,
          5,
          4,
          4,
          2,
          5,
          4,
          3,
          2,
          5,
          1,
          1,
          4,
          1,
          5,
          4,
          2,
          2,
          2,
          5,
          1,
          2,
          4,
          2,
          4,
          4,
          1,
          1,
          2,
          3,
          4,
          4,
          0,
          3,
          3,
          2,
          3,
          4,
          3,
          4,
          5,
          6,
          4,
          3,
          0,
          1,
          0,
          6,
          3,
          1,
          0,
          2,
          3,
          2,
          5,
          2,
          1,
          6,
          6,
          2,
          2,
          3,
          5,
          4,
          4,
          4,
          1,
          3,
          5,
          2,
          2,
          2,
          4,
          2,
          2,
          2,
          4,
          0,
          1,
          1,
          3,
          4,
          5,
          3,
          5,
          3,
          6,
          3,
          3,
          0,
          1,
          2,
          4,
          4,
          3,
          1,
          4,
          1,
          5,
          4,
          3,
          6,
          9,
          2,
          2,
          5,
          3,
          3,
          3,
          3,
          5,
          3,
          3,
          6,
          4,
          3,
          0,
          8,
          4,
          0,
          1,
          4,
          1,
          5,
          1,
          1,
          4,
          1,
          2,
          3,
          3,
          2,
          3,
          1,
          5,
          3,
          2,
          2,
          2,
          2,
          2,
          0,
          0,
          2,
          4,
          4,
          0,
          5,
          5,
          6,
          0,
          3,
          2,
          3,
          1,
          3,
          1,
          2,
          3,
          4,
          3,
          4,
          1,
          5,
          1,
          3,
          4,
          1,
          7,
          4,
          3,
          3,
          3,
          2,
          1,
          4,
          3,
          2,
          3,
          2,
          3,
          1,
          0,
          4,
          3,
          1,
          2,
          4,
          5,
          4,
          1,
          4,
          1,
          0,
          3,
          3,
          6,
          2,
          2,
          4,
          3,
          3,
          5,
          5,
          2,
          3,
          3,
          6,
          3,
          4,
          2,
          5,
          2,
          5,
          1,
          5,
          5,
          1,
          3,
          1,
          1,
          2,
          3,
          3,
          1,
          1,
          3,
          3,
          4,
          0,
          4,
          2,
          5,
          4,
          3,
          6,
          2,
          5,
          6,
          3,
          1,
          2,
          0,
          8,
          1,
          2,
          2,
          3,
          4,
          3,
          3,
          5,
          4,
          4,
          2,
          6,
          3,
          2,
          3,
          4,
          5,
          6,
          2,
          4,
          4,
          4,
          5,
          5,
          2,
          0,
          4,
          1,
          2,
          2,
          1,
          4,
          6,
          3,
          1,
          4,
          2,
          3,
          2,
          3,
          6,
          2,
          2,
          4,
          2,
          4,
          3,
          3,
          3,
          1,
          4,
          3,
          3,
          2,
          3,
          1,
          2,
          5,
          5,
          6,
          3,
          3,
          4,
          0,
          6,
          1,
          2,
          4,
          0,
          4,
          3,
          7,
          5,
          3,
          1,
          3,
          4,
          1,
          2,
          1,
          0,
          3,
          1,
          7,
          3,
          3,
          2,
          4,
          2,
          2,
          3,
          0,
          4,
          6,
          2,
          2,
          4,
          1,
          4,
          2,
          5,
          5,
          3,
          2,
          5,
          3,
          4,
          2,
          1,
          2,
          2,
          1,
          7,
          2,
          2,
          2,
          2,
          0,
          3,
          2,
          5,
          3,
          2,
          3
         ],
         "xaxis": "x",
         "yaxis": "y"
        },
        {
         "alignmentgroup": "True",
         "bingroup": "x",
         "hovertemplate": "group=test<br>clicks=%{x}<br>count=%{y}<extra></extra>",
         "legendgroup": "test",
         "marker": {
          "color": "#EF553B",
          "pattern": {
           "shape": ""
          }
         },
         "name": "test",
         "nbinsx": 20,
         "offsetgroup": "test",
         "orientation": "v",
         "showlegend": true,
         "type": "histogram",
         "x": [
          3,
          2,
          1,
          5,
          3,
          3,
          0,
          4,
          2,
          1,
          2,
          2,
          1,
          2,
          5,
          6,
          5,
          4,
          3,
          0,
          5,
          2,
          4,
          5,
          2,
          0,
          4,
          4,
          1,
          2,
          1,
          5,
          3,
          4,
          7,
          1,
          7,
          1,
          1,
          4,
          3,
          1,
          3,
          1,
          3,
          3,
          6,
          5,
          2,
          1,
          5,
          3,
          5,
          1,
          3,
          3,
          1,
          4,
          1,
          7,
          2,
          3,
          3,
          6,
          1,
          2,
          6,
          4,
          0,
          3,
          3,
          3,
          2,
          3,
          1,
          2,
          4,
          6,
          2,
          2,
          2,
          5,
          2,
          3,
          5,
          3,
          1,
          4,
          3,
          1,
          7,
          2,
          0,
          4,
          2,
          3,
          4,
          3,
          2,
          1,
          5,
          2,
          2,
          1,
          1,
          1,
          0,
          3,
          3,
          3,
          1,
          4,
          3,
          0,
          2,
          4,
          6,
          3,
          2,
          4,
          4,
          2,
          2,
          3,
          7,
          2,
          4,
          4,
          2,
          3,
          1,
          2,
          3,
          3,
          5,
          3,
          1,
          1,
          1,
          3,
          3,
          6,
          6,
          1,
          4,
          3,
          1,
          2,
          2,
          0,
          3,
          3,
          1,
          4,
          5,
          1,
          3,
          3,
          1,
          2,
          1,
          4,
          2,
          1,
          1,
          7,
          3,
          3,
          3,
          2,
          4,
          3,
          2,
          6,
          6,
          3,
          3,
          2,
          2,
          3,
          4,
          5,
          6,
          6,
          3,
          1,
          4,
          3,
          2,
          2,
          4,
          2,
          4,
          2,
          2,
          3,
          2,
          2,
          5,
          4,
          4,
          4,
          4,
          4,
          1,
          4,
          1,
          2,
          2,
          4,
          7,
          2,
          3,
          2,
          2,
          4,
          1,
          2,
          3,
          7,
          1,
          3,
          1,
          2,
          1,
          3,
          3,
          2,
          2,
          2,
          6,
          4,
          1,
          4,
          4,
          2,
          1,
          3,
          4,
          3,
          3,
          4,
          5,
          1,
          7,
          2,
          2,
          4,
          1,
          8,
          5,
          5,
          4,
          2,
          7,
          5,
          2,
          3,
          3,
          2,
          1,
          2,
          3,
          5,
          6,
          3,
          5,
          2,
          4,
          2,
          3,
          4,
          1,
          4,
          4,
          5,
          4,
          3,
          2,
          1,
          5,
          1,
          6,
          1,
          1,
          4,
          2,
          1,
          3,
          3,
          5,
          1,
          3,
          4,
          7,
          3,
          1,
          2,
          6,
          1,
          3,
          4,
          2,
          3,
          2,
          2,
          3,
          2,
          4,
          2,
          4,
          7,
          6,
          4,
          1,
          3,
          3,
          3,
          1,
          1,
          3,
          0,
          0,
          2,
          4,
          1,
          3,
          2,
          2,
          3,
          4,
          3,
          6,
          4,
          4,
          5,
          4,
          2,
          2,
          1,
          4,
          2,
          3,
          2,
          1,
          4,
          3,
          1,
          1,
          3,
          4,
          2,
          7,
          0,
          4,
          1,
          1,
          3,
          2,
          1,
          4,
          3,
          1,
          4,
          4,
          1,
          3,
          1,
          1,
          3,
          2,
          3,
          2,
          4,
          2,
          3,
          2,
          3,
          1,
          7,
          6,
          4,
          4,
          1,
          2,
          2,
          0,
          5,
          1,
          4,
          4,
          2,
          3,
          3,
          3,
          1,
          3,
          3,
          3,
          3,
          1,
          3,
          3,
          7,
          3,
          5,
          2,
          6,
          3,
          4,
          3,
          6,
          4,
          1,
          0,
          2,
          5,
          4,
          2,
          2,
          3,
          3,
          3,
          2,
          1,
          2,
          3,
          2,
          2,
          1,
          2,
          1,
          3,
          6,
          3,
          2,
          2,
          3,
          3,
          6,
          2,
          6,
          4,
          2,
          5,
          2,
          0,
          5,
          5,
          3,
          2,
          5,
          2,
          3,
          4,
          1,
          3,
          2,
          3,
          1,
          3,
          1,
          2,
          4,
          4,
          0,
          3,
          3,
          7,
          0,
          3,
          4,
          8,
          3,
          2,
          1,
          3,
          0,
          1,
          3,
          1,
          3,
          2,
          0,
          5,
          1,
          2,
          5,
          5,
          3,
          5,
          6,
          3,
          5,
          2,
          0,
          6,
          3,
          6,
          3,
          1,
          0,
          2,
          2,
          4,
          5,
          1,
          4,
          3,
          2
         ],
         "xaxis": "x",
         "yaxis": "y"
        }
       ],
       "layout": {
        "barmode": "relative",
        "legend": {
         "title": {
          "text": "group"
         },
         "tracegroupgap": 0
        },
        "template": {
         "data": {
          "bar": [
           {
            "error_x": {
             "color": "#2a3f5f"
            },
            "error_y": {
             "color": "#2a3f5f"
            },
            "marker": {
             "line": {
              "color": "#E5ECF6",
              "width": 0.5
             },
             "pattern": {
              "fillmode": "overlay",
              "size": 10,
              "solidity": 0.2
             }
            },
            "type": "bar"
           }
          ],
          "barpolar": [
           {
            "marker": {
             "line": {
              "color": "#E5ECF6",
              "width": 0.5
             },
             "pattern": {
              "fillmode": "overlay",
              "size": 10,
              "solidity": 0.2
             }
            },
            "type": "barpolar"
           }
          ],
          "carpet": [
           {
            "aaxis": {
             "endlinecolor": "#2a3f5f",
             "gridcolor": "white",
             "linecolor": "white",
             "minorgridcolor": "white",
             "startlinecolor": "#2a3f5f"
            },
            "baxis": {
             "endlinecolor": "#2a3f5f",
             "gridcolor": "white",
             "linecolor": "white",
             "minorgridcolor": "white",
             "startlinecolor": "#2a3f5f"
            },
            "type": "carpet"
           }
          ],
          "choropleth": [
           {
            "colorbar": {
             "outlinewidth": 0,
             "ticks": ""
            },
            "type": "choropleth"
           }
          ],
          "contour": [
           {
            "colorbar": {
             "outlinewidth": 0,
             "ticks": ""
            },
            "colorscale": [
             [
              0,
              "#0d0887"
             ],
             [
              0.1111111111111111,
              "#46039f"
             ],
             [
              0.2222222222222222,
              "#7201a8"
             ],
             [
              0.3333333333333333,
              "#9c179e"
             ],
             [
              0.4444444444444444,
              "#bd3786"
             ],
             [
              0.5555555555555556,
              "#d8576b"
             ],
             [
              0.6666666666666666,
              "#ed7953"
             ],
             [
              0.7777777777777778,
              "#fb9f3a"
             ],
             [
              0.8888888888888888,
              "#fdca26"
             ],
             [
              1,
              "#f0f921"
             ]
            ],
            "type": "contour"
           }
          ],
          "contourcarpet": [
           {
            "colorbar": {
             "outlinewidth": 0,
             "ticks": ""
            },
            "type": "contourcarpet"
           }
          ],
          "heatmap": [
           {
            "colorbar": {
             "outlinewidth": 0,
             "ticks": ""
            },
            "colorscale": [
             [
              0,
              "#0d0887"
             ],
             [
              0.1111111111111111,
              "#46039f"
             ],
             [
              0.2222222222222222,
              "#7201a8"
             ],
             [
              0.3333333333333333,
              "#9c179e"
             ],
             [
              0.4444444444444444,
              "#bd3786"
             ],
             [
              0.5555555555555556,
              "#d8576b"
             ],
             [
              0.6666666666666666,
              "#ed7953"
             ],
             [
              0.7777777777777778,
              "#fb9f3a"
             ],
             [
              0.8888888888888888,
              "#fdca26"
             ],
             [
              1,
              "#f0f921"
             ]
            ],
            "type": "heatmap"
           }
          ],
          "heatmapgl": [
           {
            "colorbar": {
             "outlinewidth": 0,
             "ticks": ""
            },
            "colorscale": [
             [
              0,
              "#0d0887"
             ],
             [
              0.1111111111111111,
              "#46039f"
             ],
             [
              0.2222222222222222,
              "#7201a8"
             ],
             [
              0.3333333333333333,
              "#9c179e"
             ],
             [
              0.4444444444444444,
              "#bd3786"
             ],
             [
              0.5555555555555556,
              "#d8576b"
             ],
             [
              0.6666666666666666,
              "#ed7953"
             ],
             [
              0.7777777777777778,
              "#fb9f3a"
             ],
             [
              0.8888888888888888,
              "#fdca26"
             ],
             [
              1,
              "#f0f921"
             ]
            ],
            "type": "heatmapgl"
           }
          ],
          "histogram": [
           {
            "marker": {
             "pattern": {
              "fillmode": "overlay",
              "size": 10,
              "solidity": 0.2
             }
            },
            "type": "histogram"
           }
          ],
          "histogram2d": [
           {
            "colorbar": {
             "outlinewidth": 0,
             "ticks": ""
            },
            "colorscale": [
             [
              0,
              "#0d0887"
             ],
             [
              0.1111111111111111,
              "#46039f"
             ],
             [
              0.2222222222222222,
              "#7201a8"
             ],
             [
              0.3333333333333333,
              "#9c179e"
             ],
             [
              0.4444444444444444,
              "#bd3786"
             ],
             [
              0.5555555555555556,
              "#d8576b"
             ],
             [
              0.6666666666666666,
              "#ed7953"
             ],
             [
              0.7777777777777778,
              "#fb9f3a"
             ],
             [
              0.8888888888888888,
              "#fdca26"
             ],
             [
              1,
              "#f0f921"
             ]
            ],
            "type": "histogram2d"
           }
          ],
          "histogram2dcontour": [
           {
            "colorbar": {
             "outlinewidth": 0,
             "ticks": ""
            },
            "colorscale": [
             [
              0,
              "#0d0887"
             ],
             [
              0.1111111111111111,
              "#46039f"
             ],
             [
              0.2222222222222222,
              "#7201a8"
             ],
             [
              0.3333333333333333,
              "#9c179e"
             ],
             [
              0.4444444444444444,
              "#bd3786"
             ],
             [
              0.5555555555555556,
              "#d8576b"
             ],
             [
              0.6666666666666666,
              "#ed7953"
             ],
             [
              0.7777777777777778,
              "#fb9f3a"
             ],
             [
              0.8888888888888888,
              "#fdca26"
             ],
             [
              1,
              "#f0f921"
             ]
            ],
            "type": "histogram2dcontour"
           }
          ],
          "mesh3d": [
           {
            "colorbar": {
             "outlinewidth": 0,
             "ticks": ""
            },
            "type": "mesh3d"
           }
          ],
          "parcoords": [
           {
            "line": {
             "colorbar": {
              "outlinewidth": 0,
              "ticks": ""
             }
            },
            "type": "parcoords"
           }
          ],
          "pie": [
           {
            "automargin": true,
            "type": "pie"
           }
          ],
          "scatter": [
           {
            "fillpattern": {
             "fillmode": "overlay",
             "size": 10,
             "solidity": 0.2
            },
            "type": "scatter"
           }
          ],
          "scatter3d": [
           {
            "line": {
             "colorbar": {
              "outlinewidth": 0,
              "ticks": ""
             }
            },
            "marker": {
             "colorbar": {
              "outlinewidth": 0,
              "ticks": ""
             }
            },
            "type": "scatter3d"
           }
          ],
          "scattercarpet": [
           {
            "marker": {
             "colorbar": {
              "outlinewidth": 0,
              "ticks": ""
             }
            },
            "type": "scattercarpet"
           }
          ],
          "scattergeo": [
           {
            "marker": {
             "colorbar": {
              "outlinewidth": 0,
              "ticks": ""
             }
            },
            "type": "scattergeo"
           }
          ],
          "scattergl": [
           {
            "marker": {
             "colorbar": {
              "outlinewidth": 0,
              "ticks": ""
             }
            },
            "type": "scattergl"
           }
          ],
          "scattermapbox": [
           {
            "marker": {
             "colorbar": {
              "outlinewidth": 0,
              "ticks": ""
             }
            },
            "type": "scattermapbox"
           }
          ],
          "scatterpolar": [
           {
            "marker": {
             "colorbar": {
              "outlinewidth": 0,
              "ticks": ""
             }
            },
            "type": "scatterpolar"
           }
          ],
          "scatterpolargl": [
           {
            "marker": {
             "colorbar": {
              "outlinewidth": 0,
              "ticks": ""
             }
            },
            "type": "scatterpolargl"
           }
          ],
          "scatterternary": [
           {
            "marker": {
             "colorbar": {
              "outlinewidth": 0,
              "ticks": ""
             }
            },
            "type": "scatterternary"
           }
          ],
          "surface": [
           {
            "colorbar": {
             "outlinewidth": 0,
             "ticks": ""
            },
            "colorscale": [
             [
              0,
              "#0d0887"
             ],
             [
              0.1111111111111111,
              "#46039f"
             ],
             [
              0.2222222222222222,
              "#7201a8"
             ],
             [
              0.3333333333333333,
              "#9c179e"
             ],
             [
              0.4444444444444444,
              "#bd3786"
             ],
             [
              0.5555555555555556,
              "#d8576b"
             ],
             [
              0.6666666666666666,
              "#ed7953"
             ],
             [
              0.7777777777777778,
              "#fb9f3a"
             ],
             [
              0.8888888888888888,
              "#fdca26"
             ],
             [
              1,
              "#f0f921"
             ]
            ],
            "type": "surface"
           }
          ],
          "table": [
           {
            "cells": {
             "fill": {
              "color": "#EBF0F8"
             },
             "line": {
              "color": "white"
             }
            },
            "header": {
             "fill": {
              "color": "#C8D4E3"
             },
             "line": {
              "color": "white"
             }
            },
            "type": "table"
           }
          ]
         },
         "layout": {
          "annotationdefaults": {
           "arrowcolor": "#2a3f5f",
           "arrowhead": 0,
           "arrowwidth": 1
          },
          "autotypenumbers": "strict",
          "coloraxis": {
           "colorbar": {
            "outlinewidth": 0,
            "ticks": ""
           }
          },
          "colorscale": {
           "diverging": [
            [
             0,
             "#8e0152"
            ],
            [
             0.1,
             "#c51b7d"
            ],
            [
             0.2,
             "#de77ae"
            ],
            [
             0.3,
             "#f1b6da"
            ],
            [
             0.4,
             "#fde0ef"
            ],
            [
             0.5,
             "#f7f7f7"
            ],
            [
             0.6,
             "#e6f5d0"
            ],
            [
             0.7,
             "#b8e186"
            ],
            [
             0.8,
             "#7fbc41"
            ],
            [
             0.9,
             "#4d9221"
            ],
            [
             1,
             "#276419"
            ]
           ],
           "sequential": [
            [
             0,
             "#0d0887"
            ],
            [
             0.1111111111111111,
             "#46039f"
            ],
            [
             0.2222222222222222,
             "#7201a8"
            ],
            [
             0.3333333333333333,
             "#9c179e"
            ],
            [
             0.4444444444444444,
             "#bd3786"
            ],
            [
             0.5555555555555556,
             "#d8576b"
            ],
            [
             0.6666666666666666,
             "#ed7953"
            ],
            [
             0.7777777777777778,
             "#fb9f3a"
            ],
            [
             0.8888888888888888,
             "#fdca26"
            ],
            [
             1,
             "#f0f921"
            ]
           ],
           "sequentialminus": [
            [
             0,
             "#0d0887"
            ],
            [
             0.1111111111111111,
             "#46039f"
            ],
            [
             0.2222222222222222,
             "#7201a8"
            ],
            [
             0.3333333333333333,
             "#9c179e"
            ],
            [
             0.4444444444444444,
             "#bd3786"
            ],
            [
             0.5555555555555556,
             "#d8576b"
            ],
            [
             0.6666666666666666,
             "#ed7953"
            ],
            [
             0.7777777777777778,
             "#fb9f3a"
            ],
            [
             0.8888888888888888,
             "#fdca26"
            ],
            [
             1,
             "#f0f921"
            ]
           ]
          },
          "colorway": [
           "#636efa",
           "#EF553B",
           "#00cc96",
           "#ab63fa",
           "#FFA15A",
           "#19d3f3",
           "#FF6692",
           "#B6E880",
           "#FF97FF",
           "#FECB52"
          ],
          "font": {
           "color": "#2a3f5f"
          },
          "geo": {
           "bgcolor": "white",
           "lakecolor": "white",
           "landcolor": "#E5ECF6",
           "showlakes": true,
           "showland": true,
           "subunitcolor": "white"
          },
          "hoverlabel": {
           "align": "left"
          },
          "hovermode": "closest",
          "mapbox": {
           "style": "light"
          },
          "paper_bgcolor": "white",
          "plot_bgcolor": "#E5ECF6",
          "polar": {
           "angularaxis": {
            "gridcolor": "white",
            "linecolor": "white",
            "ticks": ""
           },
           "bgcolor": "#E5ECF6",
           "radialaxis": {
            "gridcolor": "white",
            "linecolor": "white",
            "ticks": ""
           }
          },
          "scene": {
           "xaxis": {
            "backgroundcolor": "#E5ECF6",
            "gridcolor": "white",
            "gridwidth": 2,
            "linecolor": "white",
            "showbackground": true,
            "ticks": "",
            "zerolinecolor": "white"
           },
           "yaxis": {
            "backgroundcolor": "#E5ECF6",
            "gridcolor": "white",
            "gridwidth": 2,
            "linecolor": "white",
            "showbackground": true,
            "ticks": "",
            "zerolinecolor": "white"
           },
           "zaxis": {
            "backgroundcolor": "#E5ECF6",
            "gridcolor": "white",
            "gridwidth": 2,
            "linecolor": "white",
            "showbackground": true,
            "ticks": "",
            "zerolinecolor": "white"
           }
          },
          "shapedefaults": {
           "line": {
            "color": "#2a3f5f"
           }
          },
          "ternary": {
           "aaxis": {
            "gridcolor": "white",
            "linecolor": "white",
            "ticks": ""
           },
           "baxis": {
            "gridcolor": "white",
            "linecolor": "white",
            "ticks": ""
           },
           "bgcolor": "#E5ECF6",
           "caxis": {
            "gridcolor": "white",
            "linecolor": "white",
            "ticks": ""
           }
          },
          "title": {
           "x": 0.05
          },
          "xaxis": {
           "automargin": true,
           "gridcolor": "white",
           "linecolor": "white",
           "ticks": "",
           "title": {
            "standoff": 15
           },
           "zerolinecolor": "white",
           "zerolinewidth": 2
          },
          "yaxis": {
           "automargin": true,
           "gridcolor": "white",
           "linecolor": "white",
           "ticks": "",
           "title": {
            "standoff": 15
           },
           "zerolinecolor": "white",
           "zerolinewidth": 2
          }
         }
        },
        "title": {
         "text": "Clicks Distribution by Group"
        },
        "xaxis": {
         "anchor": "y",
         "domain": [
          0,
          1
         ],
         "title": {
          "text": "clicks"
         }
        },
        "yaxis": {
         "anchor": "x",
         "domain": [
          0,
          1
         ],
         "title": {
          "text": "count"
         }
        }
       }
      }
     },
     "metadata": {},
     "output_type": "display_data"
    }
   ],
   "source": [
    "import plotly.express as px\n",
    "px.histogram(data, x='clicks', color='group', nbins=20, title='Clicks Distribution by Group')\n"
   ]
  },
  {
   "cell_type": "code",
   "execution_count": null,
   "id": "eba28b7b",
   "metadata": {},
   "outputs": [],
   "source": []
  },
  {
   "cell_type": "markdown",
   "id": "59082011",
   "metadata": {},
   "source": [
    "# Analysis Pipeline"
   ]
  },
  {
   "cell_type": "code",
   "execution_count": null,
   "id": "cb64c373",
   "metadata": {},
   "outputs": [],
   "source": []
  }
 ],
 "metadata": {
  "kernelspec": {
   "display_name": "base",
   "language": "python",
   "name": "python3"
  },
  "language_info": {
   "codemirror_mode": {
    "name": "ipython",
    "version": 3
   },
   "file_extension": ".py",
   "mimetype": "text/x-python",
   "name": "python",
   "nbconvert_exporter": "python",
   "pygments_lexer": "ipython3",
   "version": "3.12.2"
  }
 },
 "nbformat": 4,
 "nbformat_minor": 5
}
